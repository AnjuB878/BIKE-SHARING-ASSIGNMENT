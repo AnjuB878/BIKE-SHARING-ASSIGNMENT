{
 "cells": [
  {
   "cell_type": "markdown",
   "id": "5e388e45",
   "metadata": {},
   "source": [
    "## ❓Problem Statement\n",
    "\n",
    "\n",
    "A bike-sharing system is a service in which bikes are made available for shared use to individuals on a short term basis for a price or free. Many bike share systems allow people to borrow a bike from a \"dock\" which is usually computer-controlled wherein the user enters the payment information, and the system unlocks it. This bike can then be returned to another dock belonging to the same system.\n",
    "\n",
    "\n",
    "A US bike-sharing provider BoomBikes has recently suffered considerable dips in their revenues due to the ongoing Corona pandemic. The company is finding it very difficult to sustain in the current market scenario. So, it has decided to come up with a mindful business plan to be able to accelerate its revenue as soon as the ongoing lockdown comes to an end, and the economy restores to a healthy state. \n",
    "\n",
    "\n",
    "In such an attempt, BoomBikes aspires to understand the demand for shared bikes among the people after this ongoing quarantine situation ends across the nation due to Covid-19. They have planned this to prepare themselves to cater to the people's needs once the situation gets better all around and stand out from other service providers and make huge profits.\n",
    "\n",
    "\n",
    "They have contracted a consulting company to understand the factors on which the demand for these shared bikes depends. Specifically, they want to understand the factors affecting the demand for these shared bikes in the American market. The company wants to know:\n",
    "\n",
    "Which variables are significant in predicting the demand for shared bikes.\n",
    "How well those variables describe the bike demands\n",
    "Based on various meteorological surveys and people's styles, the service provider firm has gathered a large dataset on daily bike demands across the American market based on some factors. \n",
    "\n"
   ]
  },
  {
   "cell_type": "markdown",
   "id": "702bc20f",
   "metadata": {},
   "source": [
    "#### 🟩importing all the necessary libraries"
   ]
  },
  {
   "cell_type": "code",
   "execution_count": 134,
   "id": "09b262f9",
   "metadata": {},
   "outputs": [],
   "source": [
    "import numpy as np\n",
    "import pandas as pd\n",
    "import matplotlib.pyplot as plt\n",
    "import seaborn as sns\n",
    "from statsmodels.stats.outliers_influence import variance_inflation_factor\n",
    "import warnings\n",
    "warnings.filterwarnings('ignore')"
   ]
  },
  {
   "cell_type": "markdown",
   "id": "a6f2faa6",
   "metadata": {},
   "source": [
    "### READING AND UNDERSTANDING DATA"
   ]
  },
  {
   "cell_type": "code",
   "execution_count": 135,
   "id": "bf9f2913",
   "metadata": {},
   "outputs": [],
   "source": [
    "data= pd.read_csv('day.csv')"
   ]
  },
  {
   "cell_type": "code",
   "execution_count": 136,
   "id": "a724652d",
   "metadata": {},
   "outputs": [
    {
     "data": {
      "text/html": [
       "<div>\n",
       "<style scoped>\n",
       "    .dataframe tbody tr th:only-of-type {\n",
       "        vertical-align: middle;\n",
       "    }\n",
       "\n",
       "    .dataframe tbody tr th {\n",
       "        vertical-align: top;\n",
       "    }\n",
       "\n",
       "    .dataframe thead th {\n",
       "        text-align: right;\n",
       "    }\n",
       "</style>\n",
       "<table border=\"1\" class=\"dataframe\">\n",
       "  <thead>\n",
       "    <tr style=\"text-align: right;\">\n",
       "      <th></th>\n",
       "      <th>instant</th>\n",
       "      <th>dteday</th>\n",
       "      <th>season</th>\n",
       "      <th>yr</th>\n",
       "      <th>mnth</th>\n",
       "      <th>holiday</th>\n",
       "      <th>weekday</th>\n",
       "      <th>workingday</th>\n",
       "      <th>weathersit</th>\n",
       "      <th>temp</th>\n",
       "      <th>atemp</th>\n",
       "      <th>hum</th>\n",
       "      <th>windspeed</th>\n",
       "      <th>casual</th>\n",
       "      <th>registered</th>\n",
       "      <th>cnt</th>\n",
       "    </tr>\n",
       "  </thead>\n",
       "  <tbody>\n",
       "    <tr>\n",
       "      <th>0</th>\n",
       "      <td>1</td>\n",
       "      <td>01-01-2018</td>\n",
       "      <td>1</td>\n",
       "      <td>0</td>\n",
       "      <td>1</td>\n",
       "      <td>0</td>\n",
       "      <td>1</td>\n",
       "      <td>1</td>\n",
       "      <td>2</td>\n",
       "      <td>14.110847</td>\n",
       "      <td>18.18125</td>\n",
       "      <td>80.5833</td>\n",
       "      <td>10.749882</td>\n",
       "      <td>331</td>\n",
       "      <td>654</td>\n",
       "      <td>985</td>\n",
       "    </tr>\n",
       "    <tr>\n",
       "      <th>1</th>\n",
       "      <td>2</td>\n",
       "      <td>02-01-2018</td>\n",
       "      <td>1</td>\n",
       "      <td>0</td>\n",
       "      <td>1</td>\n",
       "      <td>0</td>\n",
       "      <td>2</td>\n",
       "      <td>1</td>\n",
       "      <td>2</td>\n",
       "      <td>14.902598</td>\n",
       "      <td>17.68695</td>\n",
       "      <td>69.6087</td>\n",
       "      <td>16.652113</td>\n",
       "      <td>131</td>\n",
       "      <td>670</td>\n",
       "      <td>801</td>\n",
       "    </tr>\n",
       "    <tr>\n",
       "      <th>2</th>\n",
       "      <td>3</td>\n",
       "      <td>03-01-2018</td>\n",
       "      <td>1</td>\n",
       "      <td>0</td>\n",
       "      <td>1</td>\n",
       "      <td>0</td>\n",
       "      <td>3</td>\n",
       "      <td>1</td>\n",
       "      <td>1</td>\n",
       "      <td>8.050924</td>\n",
       "      <td>9.47025</td>\n",
       "      <td>43.7273</td>\n",
       "      <td>16.636703</td>\n",
       "      <td>120</td>\n",
       "      <td>1229</td>\n",
       "      <td>1349</td>\n",
       "    </tr>\n",
       "    <tr>\n",
       "      <th>3</th>\n",
       "      <td>4</td>\n",
       "      <td>04-01-2018</td>\n",
       "      <td>1</td>\n",
       "      <td>0</td>\n",
       "      <td>1</td>\n",
       "      <td>0</td>\n",
       "      <td>4</td>\n",
       "      <td>1</td>\n",
       "      <td>1</td>\n",
       "      <td>8.200000</td>\n",
       "      <td>10.60610</td>\n",
       "      <td>59.0435</td>\n",
       "      <td>10.739832</td>\n",
       "      <td>108</td>\n",
       "      <td>1454</td>\n",
       "      <td>1562</td>\n",
       "    </tr>\n",
       "    <tr>\n",
       "      <th>4</th>\n",
       "      <td>5</td>\n",
       "      <td>05-01-2018</td>\n",
       "      <td>1</td>\n",
       "      <td>0</td>\n",
       "      <td>1</td>\n",
       "      <td>0</td>\n",
       "      <td>5</td>\n",
       "      <td>1</td>\n",
       "      <td>1</td>\n",
       "      <td>9.305237</td>\n",
       "      <td>11.46350</td>\n",
       "      <td>43.6957</td>\n",
       "      <td>12.522300</td>\n",
       "      <td>82</td>\n",
       "      <td>1518</td>\n",
       "      <td>1600</td>\n",
       "    </tr>\n",
       "  </tbody>\n",
       "</table>\n",
       "</div>"
      ],
      "text/plain": [
       "   instant      dteday  season  yr  mnth  holiday  weekday  workingday  \\\n",
       "0        1  01-01-2018       1   0     1        0        1           1   \n",
       "1        2  02-01-2018       1   0     1        0        2           1   \n",
       "2        3  03-01-2018       1   0     1        0        3           1   \n",
       "3        4  04-01-2018       1   0     1        0        4           1   \n",
       "4        5  05-01-2018       1   0     1        0        5           1   \n",
       "\n",
       "   weathersit       temp     atemp      hum  windspeed  casual  registered  \\\n",
       "0           2  14.110847  18.18125  80.5833  10.749882     331         654   \n",
       "1           2  14.902598  17.68695  69.6087  16.652113     131         670   \n",
       "2           1   8.050924   9.47025  43.7273  16.636703     120        1229   \n",
       "3           1   8.200000  10.60610  59.0435  10.739832     108        1454   \n",
       "4           1   9.305237  11.46350  43.6957  12.522300      82        1518   \n",
       "\n",
       "    cnt  \n",
       "0   985  \n",
       "1   801  \n",
       "2  1349  \n",
       "3  1562  \n",
       "4  1600  "
      ]
     },
     "execution_count": 136,
     "metadata": {},
     "output_type": "execute_result"
    }
   ],
   "source": [
    "data.head()"
   ]
  },
  {
   "cell_type": "markdown",
   "id": "9de7331f",
   "metadata": {},
   "source": [
    "### DATA QUALITY CHECKS"
   ]
  },
  {
   "cell_type": "code",
   "execution_count": 137,
   "id": "946f8397",
   "metadata": {},
   "outputs": [
    {
     "name": "stdout",
     "output_type": "stream",
     "text": [
      "<class 'pandas.core.frame.DataFrame'>\n",
      "RangeIndex: 730 entries, 0 to 729\n",
      "Data columns (total 16 columns):\n",
      " #   Column      Non-Null Count  Dtype  \n",
      "---  ------      --------------  -----  \n",
      " 0   instant     730 non-null    int64  \n",
      " 1   dteday      730 non-null    object \n",
      " 2   season      730 non-null    int64  \n",
      " 3   yr          730 non-null    int64  \n",
      " 4   mnth        730 non-null    int64  \n",
      " 5   holiday     730 non-null    int64  \n",
      " 6   weekday     730 non-null    int64  \n",
      " 7   workingday  730 non-null    int64  \n",
      " 8   weathersit  730 non-null    int64  \n",
      " 9   temp        730 non-null    float64\n",
      " 10  atemp       730 non-null    float64\n",
      " 11  hum         730 non-null    float64\n",
      " 12  windspeed   730 non-null    float64\n",
      " 13  casual      730 non-null    int64  \n",
      " 14  registered  730 non-null    int64  \n",
      " 15  cnt         730 non-null    int64  \n",
      "dtypes: float64(4), int64(11), object(1)\n",
      "memory usage: 91.4+ KB\n"
     ]
    }
   ],
   "source": [
    "data.info()"
   ]
  },
  {
   "cell_type": "markdown",
   "id": "87f9f91b",
   "metadata": {},
   "source": [
    "### VISUALISING CONTINUOUS VARIABLES"
   ]
  },
  {
   "cell_type": "code",
   "execution_count": 138,
   "id": "dc87c0f3",
   "metadata": {},
   "outputs": [],
   "source": [
    "## dropping 'instant','dteday','casual','registered'\n",
    "\n",
    "data= data.drop(columns=['instant','dteday','casual','registered'])\n"
   ]
  },
  {
   "cell_type": "markdown",
   "id": "ca0cdc02",
   "metadata": {},
   "source": [
    "##### These variables were dropped since instant is the just the serial number of the record, dteday is redundant coz the required data for analysis is contained in mnth,yr casual + registered = cnt"
   ]
  },
  {
   "cell_type": "code",
   "execution_count": 139,
   "id": "2f6bbe2c",
   "metadata": {},
   "outputs": [
    {
     "data": {
      "text/html": [
       "<div>\n",
       "<style scoped>\n",
       "    .dataframe tbody tr th:only-of-type {\n",
       "        vertical-align: middle;\n",
       "    }\n",
       "\n",
       "    .dataframe tbody tr th {\n",
       "        vertical-align: top;\n",
       "    }\n",
       "\n",
       "    .dataframe thead th {\n",
       "        text-align: right;\n",
       "    }\n",
       "</style>\n",
       "<table border=\"1\" class=\"dataframe\">\n",
       "  <thead>\n",
       "    <tr style=\"text-align: right;\">\n",
       "      <th></th>\n",
       "      <th>temp</th>\n",
       "      <th>atemp</th>\n",
       "      <th>hum</th>\n",
       "      <th>windspeed</th>\n",
       "    </tr>\n",
       "  </thead>\n",
       "  <tbody>\n",
       "    <tr>\n",
       "      <th>count</th>\n",
       "      <td>730.000000</td>\n",
       "      <td>730.000000</td>\n",
       "      <td>730.000000</td>\n",
       "      <td>730.000000</td>\n",
       "    </tr>\n",
       "    <tr>\n",
       "      <th>mean</th>\n",
       "      <td>20.319259</td>\n",
       "      <td>23.726322</td>\n",
       "      <td>62.765175</td>\n",
       "      <td>12.763620</td>\n",
       "    </tr>\n",
       "    <tr>\n",
       "      <th>std</th>\n",
       "      <td>7.506729</td>\n",
       "      <td>8.150308</td>\n",
       "      <td>14.237589</td>\n",
       "      <td>5.195841</td>\n",
       "    </tr>\n",
       "    <tr>\n",
       "      <th>min</th>\n",
       "      <td>2.424346</td>\n",
       "      <td>3.953480</td>\n",
       "      <td>0.000000</td>\n",
       "      <td>1.500244</td>\n",
       "    </tr>\n",
       "    <tr>\n",
       "      <th>25%</th>\n",
       "      <td>13.811885</td>\n",
       "      <td>16.889713</td>\n",
       "      <td>52.000000</td>\n",
       "      <td>9.041650</td>\n",
       "    </tr>\n",
       "    <tr>\n",
       "      <th>50%</th>\n",
       "      <td>20.465826</td>\n",
       "      <td>24.368225</td>\n",
       "      <td>62.625000</td>\n",
       "      <td>12.125325</td>\n",
       "    </tr>\n",
       "    <tr>\n",
       "      <th>75%</th>\n",
       "      <td>26.880615</td>\n",
       "      <td>30.445775</td>\n",
       "      <td>72.989575</td>\n",
       "      <td>15.625589</td>\n",
       "    </tr>\n",
       "    <tr>\n",
       "      <th>max</th>\n",
       "      <td>35.328347</td>\n",
       "      <td>42.044800</td>\n",
       "      <td>97.250000</td>\n",
       "      <td>34.000021</td>\n",
       "    </tr>\n",
       "  </tbody>\n",
       "</table>\n",
       "</div>"
      ],
      "text/plain": [
       "             temp       atemp         hum   windspeed\n",
       "count  730.000000  730.000000  730.000000  730.000000\n",
       "mean    20.319259   23.726322   62.765175   12.763620\n",
       "std      7.506729    8.150308   14.237589    5.195841\n",
       "min      2.424346    3.953480    0.000000    1.500244\n",
       "25%     13.811885   16.889713   52.000000    9.041650\n",
       "50%     20.465826   24.368225   62.625000   12.125325\n",
       "75%     26.880615   30.445775   72.989575   15.625589\n",
       "max     35.328347   42.044800   97.250000   34.000021"
      ]
     },
     "execution_count": 139,
     "metadata": {},
     "output_type": "execute_result"
    }
   ],
   "source": [
    "## summary statistics of numerical variables\n",
    "data[['temp','atemp','hum','windspeed']].describe()"
   ]
  },
  {
   "cell_type": "code",
   "execution_count": 140,
   "id": "80d9b2e5",
   "metadata": {},
   "outputs": [
    {
     "data": {
      "image/png": "[encoded data removed]",
      "text/plain": [
       "<Figure size 1440x360 with 4 Axes>"
      ]
     },
     "metadata": {},
     "output_type": "display_data"
    }
   ],
   "source": [
    "## Scatter plots of continous variables vs 'cnt'\n",
    "\n",
    "sns.set_style(\"whitegrid\")\n",
    "sns.pairplot(data=data,x_vars=['temp','atemp','hum','windspeed'],y_vars='cnt',kind='scatter',height=5,aspect=1);"
   ]
  },
  {
   "cell_type": "markdown",
   "id": "f064ba4c",
   "metadata": {},
   "source": [
    "##### The number of rentals per day seem to be increasing with   temperature and adjusted temperature\n",
    "##### adjusted temperature and temperature have similar trends\n",
    "##### temp vs cnt has two outliers between 15 and 30\n",
    "##### atemp vs cnt has two outliers between 20 and 35\n",
    "##### hum vs cnt has two outliers below 20\n",
    "##### windspeed vs cnt has one outlier above 30"
   ]
  },
  {
   "cell_type": "markdown",
   "id": "73ffa4c8",
   "metadata": {},
   "source": [
    "### OUTLIERS IN CONTINUOUS VARIABLES VS CNT"
   ]
  },
  {
   "cell_type": "code",
   "execution_count": 141,
   "id": "906c1590",
   "metadata": {},
   "outputs": [],
   "source": [
    "## Dropping outliers in continuous variables\n",
    "# outliers in temp\n",
    "data = data.drop(index = data[(data['temp'] > 15) & (data['temp'] < 20) & (data['cnt'] < 100)].index)\n",
    "data = data.drop(index = data[(data['temp'] > 25) & (data['temp'] < 30) & (data['cnt'] < 2000)].index)\n",
    "\n",
    "\n",
    "# outliers in atemp\n",
    "data = data.drop(index = data[(data['atemp'] > 20) & (data['atemp'] < 25) & (data['cnt'] < 100)].index)\n",
    "data = data.drop(index = data[(data['atemp'] > 30) & (data['atemp'] < 35) & (data['cnt'] < 2000)].index)\n",
    "\n",
    "\n",
    "#outliers in hum\n",
    "data = data.drop(index = data[(data['hum'] < 20)].index)\n",
    "\n",
    "#outliers in windspeed\n",
    "data = data.drop(index = data[(data['windspeed'] > 30)].index)"
   ]
  },
  {
   "cell_type": "code",
   "execution_count": 142,
   "id": "4b30777b",
   "metadata": {},
   "outputs": [
    {
     "data": {
      "text/html": [
       "<style type=\"text/css\">\n",
       "#T_7465c_row0_col0, #T_7465c_row1_col0 {\n",
       "  background-color: #084081;\n",
       "  color: #f1f1f1;\n",
       "}\n",
       "#T_7465c_row2_col0 {\n",
       "  background-color: #dff3da;\n",
       "  color: #000000;\n",
       "}\n",
       "#T_7465c_row3_col0 {\n",
       "  background-color: #f7fcf0;\n",
       "  color: #000000;\n",
       "}\n",
       "</style>\n",
       "<table id=\"T_7465c\">\n",
       "  <thead>\n",
       "    <tr>\n",
       "      <th class=\"blank level0\" >&nbsp;</th>\n",
       "      <th id=\"T_7465c_level0_col0\" class=\"col_heading level0 col0\" >cnt</th>\n",
       "    </tr>\n",
       "  </thead>\n",
       "  <tbody>\n",
       "    <tr>\n",
       "      <th id=\"T_7465c_level0_row0\" class=\"row_heading level0 row0\" >atemp</th>\n",
       "      <td id=\"T_7465c_row0_col0\" class=\"data row0 col0\" >0.638900</td>\n",
       "    </tr>\n",
       "    <tr>\n",
       "      <th id=\"T_7465c_level0_row1\" class=\"row_heading level0 row1\" >temp</th>\n",
       "      <td id=\"T_7465c_row1_col0\" class=\"data row1 col0\" >0.635600</td>\n",
       "    </tr>\n",
       "    <tr>\n",
       "      <th id=\"T_7465c_level0_row2\" class=\"row_heading level0 row2\" >hum</th>\n",
       "      <td id=\"T_7465c_row2_col0\" class=\"data row2 col0\" >-0.107600</td>\n",
       "    </tr>\n",
       "    <tr>\n",
       "      <th id=\"T_7465c_level0_row3\" class=\"row_heading level0 row3\" >windspeed</th>\n",
       "      <td id=\"T_7465c_row3_col0\" class=\"data row3 col0\" >-0.218100</td>\n",
       "    </tr>\n",
       "  </tbody>\n",
       "</table>\n"
      ],
      "text/plain": [
       "<pandas.io.formats.style.Styler at 0x22b301d69a0>"
      ]
     },
     "execution_count": 142,
     "metadata": {},
     "output_type": "execute_result"
    }
   ],
   "source": [
    "# Looking at correlation with continuous variables \n",
    "correlation = data[['temp','atemp','hum','windspeed','cnt']].corr()['cnt'].apply(lambda x : round(x,4))\n",
    "correlation = pd.DataFrame(correlation).sort_values(by='cnt',ascending=False)\n",
    "correlation.drop(index=['cnt'],inplace=True)\n",
    "# dropping registered,casual, instant\n",
    "correlation.style.background_gradient(cmap='GnBu')"
   ]
  },
  {
   "cell_type": "code",
   "execution_count": 143,
   "id": "632e0193",
   "metadata": {},
   "outputs": [
    {
     "data": {
      "text/html": [
       "<div>\n",
       "<style scoped>\n",
       "    .dataframe tbody tr th:only-of-type {\n",
       "        vertical-align: middle;\n",
       "    }\n",
       "\n",
       "    .dataframe tbody tr th {\n",
       "        vertical-align: top;\n",
       "    }\n",
       "\n",
       "    .dataframe thead th {\n",
       "        text-align: right;\n",
       "    }\n",
       "</style>\n",
       "<table border=\"1\" class=\"dataframe\">\n",
       "  <thead>\n",
       "    <tr style=\"text-align: right;\">\n",
       "      <th></th>\n",
       "      <th>temp</th>\n",
       "      <th>atemp</th>\n",
       "    </tr>\n",
       "  </thead>\n",
       "  <tbody>\n",
       "    <tr>\n",
       "      <th>temp</th>\n",
       "      <td>1.000000</td>\n",
       "      <td>0.991726</td>\n",
       "    </tr>\n",
       "    <tr>\n",
       "      <th>atemp</th>\n",
       "      <td>0.991726</td>\n",
       "      <td>1.000000</td>\n",
       "    </tr>\n",
       "  </tbody>\n",
       "</table>\n",
       "</div>"
      ],
      "text/plain": [
       "           temp     atemp\n",
       "temp   1.000000  0.991726\n",
       "atemp  0.991726  1.000000"
      ]
     },
     "execution_count": 143,
     "metadata": {},
     "output_type": "execute_result"
    }
   ],
   "source": [
    "## correlation between 'temp' & 'atemp'\n",
    "data[['temp','atemp']].corr()"
   ]
  },
  {
   "cell_type": "code",
   "execution_count": 144,
   "id": "84247533",
   "metadata": {},
   "outputs": [],
   "source": [
    "## dropping 'atemp'\n",
    "\n",
    "data=data.drop(columns=['atemp'])"
   ]
  },
  {
   "cell_type": "code",
   "execution_count": 145,
   "id": "b1d74f33",
   "metadata": {},
   "outputs": [
    {
     "data": {
      "text/html": [
       "<div>\n",
       "<style scoped>\n",
       "    .dataframe tbody tr th:only-of-type {\n",
       "        vertical-align: middle;\n",
       "    }\n",
       "\n",
       "    .dataframe tbody tr th {\n",
       "        vertical-align: top;\n",
       "    }\n",
       "\n",
       "    .dataframe thead th {\n",
       "        text-align: right;\n",
       "    }\n",
       "</style>\n",
       "<table border=\"1\" class=\"dataframe\">\n",
       "  <thead>\n",
       "    <tr style=\"text-align: right;\">\n",
       "      <th></th>\n",
       "      <th>temp</th>\n",
       "      <th>hum</th>\n",
       "      <th>windspeed</th>\n",
       "    </tr>\n",
       "  </thead>\n",
       "  <tbody>\n",
       "    <tr>\n",
       "      <th>temp</th>\n",
       "      <td>1.000000</td>\n",
       "      <td>0.122673</td>\n",
       "      <td>-0.160295</td>\n",
       "    </tr>\n",
       "    <tr>\n",
       "      <th>hum</th>\n",
       "      <td>0.122673</td>\n",
       "      <td>1.000000</td>\n",
       "      <td>-0.247498</td>\n",
       "    </tr>\n",
       "    <tr>\n",
       "      <th>windspeed</th>\n",
       "      <td>-0.160295</td>\n",
       "      <td>-0.247498</td>\n",
       "      <td>1.000000</td>\n",
       "    </tr>\n",
       "  </tbody>\n",
       "</table>\n",
       "</div>"
      ],
      "text/plain": [
       "               temp       hum  windspeed\n",
       "temp       1.000000  0.122673  -0.160295\n",
       "hum        0.122673  1.000000  -0.247498\n",
       "windspeed -0.160295 -0.247498   1.000000"
      ]
     },
     "execution_count": 145,
     "metadata": {},
     "output_type": "execute_result"
    }
   ],
   "source": [
    "data[['temp','hum','windspeed']].corr()"
   ]
  },
  {
   "cell_type": "markdown",
   "id": "a7920747",
   "metadata": {},
   "source": [
    "##### There's no signifcant correlation between atemp and hum , windspeed.\n",
    "##### Hence these are not dropped for now."
   ]
  },
  {
   "cell_type": "markdown",
   "id": "6d3c67ae",
   "metadata": {},
   "source": [
    "## VISUALISING CATEGORICAL VARIABLES"
   ]
  },
  {
   "cell_type": "code",
   "execution_count": 146,
   "id": "61477c44",
   "metadata": {},
   "outputs": [],
   "source": [
    "# Converting variables into categorical type \n",
    "data[['season','weathersit','mnth']] = data[['season','weathersit','mnth']].astype('category')"
   ]
  },
  {
   "cell_type": "code",
   "execution_count": 147,
   "id": "4babbea0",
   "metadata": {},
   "outputs": [
    {
     "name": "stdout",
     "output_type": "stream",
     "text": [
      "Unique values in  season [1, 2, 3, 4]\n",
      "Categories (4, int64): [1, 2, 3, 4]\n",
      "Unique values in  yr [0 1]\n",
      "Unique values in  mnth [1, 2, 3, 4, 5, ..., 8, 9, 10, 11, 12]\n",
      "Length: 12\n",
      "Categories (12, int64): [1, 2, 3, 4, ..., 9, 10, 11, 12]\n",
      "Unique values in  holiday [0 1]\n",
      "Unique values in  weekday [1 2 3 4 5 6 0]\n",
      "Unique values in  workingday [1 0]\n",
      "Unique values in  weathersit [2, 1, 3]\n",
      "Categories (3, int64): [1, 2, 3]\n"
     ]
    }
   ],
   "source": [
    "# Unique values in each categorical variable / [To check for disguised missing values]\n",
    "cat_vars = ['season','yr','mnth','holiday','weekday','workingday','weathersit']\n",
    "for i in cat_vars : \n",
    "    print('Unique values in ',i, data[i].unique())"
   ]
  },
  {
   "cell_type": "markdown",
   "id": "46cf8549",
   "metadata": {},
   "source": [
    "##### No disguised missing values exist"
   ]
  },
  {
   "cell_type": "code",
   "execution_count": 148,
   "id": "8023d04b",
   "metadata": {},
   "outputs": [
    {
     "data": {
      "text/html": [
       "<div>\n",
       "<style scoped>\n",
       "    .dataframe tbody tr th:only-of-type {\n",
       "        vertical-align: middle;\n",
       "    }\n",
       "\n",
       "    .dataframe tbody tr th {\n",
       "        vertical-align: top;\n",
       "    }\n",
       "\n",
       "    .dataframe thead th {\n",
       "        text-align: right;\n",
       "    }\n",
       "</style>\n",
       "<table border=\"1\" class=\"dataframe\">\n",
       "  <thead>\n",
       "    <tr style=\"text-align: right;\">\n",
       "      <th></th>\n",
       "      <th>season</th>\n",
       "      <th>yr</th>\n",
       "      <th>mnth</th>\n",
       "      <th>holiday</th>\n",
       "      <th>weekday</th>\n",
       "      <th>workingday</th>\n",
       "      <th>weathersit</th>\n",
       "      <th>temp</th>\n",
       "      <th>hum</th>\n",
       "      <th>windspeed</th>\n",
       "      <th>cnt</th>\n",
       "    </tr>\n",
       "  </thead>\n",
       "  <tbody>\n",
       "    <tr>\n",
       "      <th>0</th>\n",
       "      <td>spring</td>\n",
       "      <td>0</td>\n",
       "      <td>january</td>\n",
       "      <td>0</td>\n",
       "      <td>Monday</td>\n",
       "      <td>1</td>\n",
       "      <td>cloudy</td>\n",
       "      <td>14.110847</td>\n",
       "      <td>80.5833</td>\n",
       "      <td>10.749882</td>\n",
       "      <td>985</td>\n",
       "    </tr>\n",
       "    <tr>\n",
       "      <th>1</th>\n",
       "      <td>spring</td>\n",
       "      <td>0</td>\n",
       "      <td>january</td>\n",
       "      <td>0</td>\n",
       "      <td>Tuesday</td>\n",
       "      <td>1</td>\n",
       "      <td>cloudy</td>\n",
       "      <td>14.902598</td>\n",
       "      <td>69.6087</td>\n",
       "      <td>16.652113</td>\n",
       "      <td>801</td>\n",
       "    </tr>\n",
       "    <tr>\n",
       "      <th>2</th>\n",
       "      <td>spring</td>\n",
       "      <td>0</td>\n",
       "      <td>january</td>\n",
       "      <td>0</td>\n",
       "      <td>Wednesday</td>\n",
       "      <td>1</td>\n",
       "      <td>clear</td>\n",
       "      <td>8.050924</td>\n",
       "      <td>43.7273</td>\n",
       "      <td>16.636703</td>\n",
       "      <td>1349</td>\n",
       "    </tr>\n",
       "    <tr>\n",
       "      <th>3</th>\n",
       "      <td>spring</td>\n",
       "      <td>0</td>\n",
       "      <td>january</td>\n",
       "      <td>0</td>\n",
       "      <td>Thursday</td>\n",
       "      <td>1</td>\n",
       "      <td>clear</td>\n",
       "      <td>8.200000</td>\n",
       "      <td>59.0435</td>\n",
       "      <td>10.739832</td>\n",
       "      <td>1562</td>\n",
       "    </tr>\n",
       "    <tr>\n",
       "      <th>4</th>\n",
       "      <td>spring</td>\n",
       "      <td>0</td>\n",
       "      <td>january</td>\n",
       "      <td>0</td>\n",
       "      <td>Friday</td>\n",
       "      <td>1</td>\n",
       "      <td>clear</td>\n",
       "      <td>9.305237</td>\n",
       "      <td>43.6957</td>\n",
       "      <td>12.522300</td>\n",
       "      <td>1600</td>\n",
       "    </tr>\n",
       "  </tbody>\n",
       "</table>\n",
       "</div>"
      ],
      "text/plain": [
       "   season  yr     mnth  holiday    weekday  workingday weathersit       temp  \\\n",
       "0  spring   0  january        0     Monday           1     cloudy  14.110847   \n",
       "1  spring   0  january        0    Tuesday           1     cloudy  14.902598   \n",
       "2  spring   0  january        0  Wednesday           1      clear   8.050924   \n",
       "3  spring   0  january        0   Thursday           1      clear   8.200000   \n",
       "4  spring   0  january        0     Friday           1      clear   9.305237   \n",
       "\n",
       "       hum  windspeed   cnt  \n",
       "0  80.5833  10.749882   985  \n",
       "1  69.6087  16.652113   801  \n",
       "2  43.7273  16.636703  1349  \n",
       "3  59.0435  10.739832  1562  \n",
       "4  43.6957  12.522300  1600  "
      ]
     },
     "execution_count": 148,
     "metadata": {},
     "output_type": "execute_result"
    }
   ],
   "source": [
    "# Replacing numbers with labels \n",
    "season_labels = {\n",
    "    1 : 'spring',\n",
    "    2 : 'summer',\n",
    "    3 : 'fall',\n",
    "    4 : 'winter'\n",
    "}\n",
    "\n",
    "mnth_labels = {\n",
    "    1 : 'january',\n",
    "    2 : 'february',\n",
    "    3 : 'march',\n",
    "    4 : 'april',\n",
    "    5 : 'may',\n",
    "    6 : 'june',\n",
    "    7 : 'july',\n",
    "    8 : 'august',\n",
    "    9 : 'september',\n",
    "    10 : 'october',\n",
    "    11 : 'november',\n",
    "    12 : 'december'\n",
    "}\n",
    "\n",
    "weekday_labels = { # considering the first row of dteday to be 01-01-2011\n",
    "    0 : 'Sunday',\n",
    "    1 : 'Monday',\n",
    "    2 : 'Tuesday',\n",
    "    3 : 'Wednesday',\n",
    "    4 : 'Thursday',\n",
    "    5 : 'Friday',\n",
    "    6 : 'Saturday'\n",
    "}\n",
    "\n",
    "weathersit_labels = {\n",
    "    1 : 'clear',\n",
    "    2 : 'cloudy',\n",
    "    3 : 'light snow/rain'\n",
    "}\n",
    "\n",
    "# replacing numerals with labels \n",
    "data['season'] = data['season'].replace(season_labels)\n",
    "data['mnth'] = data['mnth'].replace(mnth_labels)\n",
    "data['weekday'] = data['weekday'].replace(weekday_labels)\n",
    "data['weathersit'] = data['weathersit'].replace(weathersit_labels)\n",
    "\n",
    "data.head()"
   ]
  },
  {
   "cell_type": "code",
   "execution_count": 149,
   "id": "2f9dd8e9",
   "metadata": {},
   "outputs": [
    {
     "data": {
      "image/png": "[encoded data removed]",
      "text/plain": [
       "<Figure size 1440x1080 with 9 Axes>"
      ]
     },
     "metadata": {},
     "output_type": "display_data"
    }
   ],
   "source": [
    "cat_vars = ['season','yr','mnth','holiday','weekday',  'workingday','weathersit']\n",
    "data1 = data[cat_vars]\n",
    "data1.loc[:,'cnt'] = data['cnt'].values\n",
    "data1[['yr','holiday','workingday']] = data1[['yr','holiday','workingday']].astype('category')\n",
    "plot_dim = [3,3]\n",
    "fig,axs = plt.subplots(*plot_dim)\n",
    "fig.set_figheight(15)\n",
    "fig.set_figwidth(20)\n",
    "for i in range(plot_dim[0]) :  \n",
    "    for j in range(plot_dim[1]) :\n",
    "        axs[i,j].set(title = i*plot_dim[1]+j)\n",
    "        sns.boxplot(data=data1,x='cnt',y=cat_vars[i*plot_dim[1]+j],width=0.4,ax=axs[i,j])\n",
    "        if i*plot_dim[1]+j == 6 : \n",
    "            break\n",
    "axs[2,1].set_axis_off()\n",
    "axs[2,2].set_axis_off()"
   ]
  },
  {
   "cell_type": "markdown",
   "id": "3078ff9f",
   "metadata": {},
   "source": [
    "##### From the season vs rentals per day plot , fall has the highest average rentals followed by summer.\n",
    "##### Looking at year by year rentals, 2019 has had a median 2000 increase in rentals compared to 2018.\n",
    "##### From the month wise plot, September has the highest rentals, followed by the two months surrounding it. It seems like the trend is explained by seasonal rentals too\n",
    "##### Holidays show lower rental count compared to working days, with greater variability in demand on holidays.\n",
    "##### There is no significant difference between rentals vs weekdays, except that Thursdays and sundays have a higher variation in rentals than others."
   ]
  },
  {
   "cell_type": "markdown",
   "id": "831b9dfe",
   "metadata": {},
   "source": [
    "### OUTLIERS IN CATEGORICAL VARIABLES VS CNT"
   ]
  },
  {
   "cell_type": "code",
   "execution_count": 150,
   "id": "de423311",
   "metadata": {},
   "outputs": [],
   "source": [
    "# Dropping outliers in Categorical Variables \n",
    "data = data.drop(index = data[(data['season'] == 'spring') & (data['cnt'] > 7000)].index)"
   ]
  },
  {
   "cell_type": "markdown",
   "id": "d9bed9e0",
   "metadata": {},
   "source": [
    "#### CORRELATION"
   ]
  },
  {
   "cell_type": "code",
   "execution_count": 151,
   "id": "817b7488",
   "metadata": {},
   "outputs": [
    {
     "data": {
      "text/plain": [
       "<AxesSubplot:>"
      ]
     },
     "execution_count": 151,
     "metadata": {},
     "output_type": "execute_result"
    },
    {
     "data": {
      "image/png": "[encoded data removed]",
      "text/plain": [
       "<Figure size 720x720 with 2 Axes>"
      ]
     },
     "metadata": {},
     "output_type": "display_data"
    }
   ],
   "source": [
    "# correlation among variables\n",
    "plt.figure(figsize=[10,10])\n",
    "sns.heatmap(data.corr(),cmap='GnBu',center=0,annot=True)"
   ]
  },
  {
   "cell_type": "markdown",
   "id": "b6bd6155",
   "metadata": {},
   "source": [
    "###### Highest correlation with cnt is seen in temp followed by yr"
   ]
  },
  {
   "cell_type": "markdown",
   "id": "89566a85",
   "metadata": {},
   "source": [
    "### CREATING INDICATOR VARIABLES"
   ]
  },
  {
   "cell_type": "code",
   "execution_count": 152,
   "id": "789e6a5c",
   "metadata": {},
   "outputs": [],
   "source": [
    "# creating indicator variable columns\n",
    "season_indicators = pd.get_dummies(data['season'],drop_first=True)\n",
    "mnth_indicators = pd.get_dummies(data['mnth'],drop_first=True)\n",
    "weekday_indicators = pd.get_dummies(data['weekday'],drop_first=True)\n",
    "weathersit_indicators = pd.get_dummies(data['weathersit'],drop_first=True)"
   ]
  },
  {
   "cell_type": "code",
   "execution_count": 153,
   "id": "44348911",
   "metadata": {},
   "outputs": [],
   "source": [
    "# adding indicator variable columns to the dataset . Dropping original columns\n",
    "data = pd.concat([data,season_indicators,mnth_indicators,weekday_indicators,weathersit_indicators],axis=1)\n",
    "data = data.drop(columns=['season','mnth','weekday','weathersit'])"
   ]
  },
  {
   "cell_type": "code",
   "execution_count": 154,
   "id": "6a0ba8ba",
   "metadata": {},
   "outputs": [
    {
     "data": {
      "text/html": [
       "<div>\n",
       "<style scoped>\n",
       "    .dataframe tbody tr th:only-of-type {\n",
       "        vertical-align: middle;\n",
       "    }\n",
       "\n",
       "    .dataframe tbody tr th {\n",
       "        vertical-align: top;\n",
       "    }\n",
       "\n",
       "    .dataframe thead th {\n",
       "        text-align: right;\n",
       "    }\n",
       "</style>\n",
       "<table border=\"1\" class=\"dataframe\">\n",
       "  <thead>\n",
       "    <tr style=\"text-align: right;\">\n",
       "      <th></th>\n",
       "      <th>yr</th>\n",
       "      <th>holiday</th>\n",
       "      <th>workingday</th>\n",
       "      <th>temp</th>\n",
       "      <th>hum</th>\n",
       "      <th>windspeed</th>\n",
       "      <th>cnt</th>\n",
       "      <th>summer</th>\n",
       "      <th>fall</th>\n",
       "      <th>winter</th>\n",
       "      <th>...</th>\n",
       "      <th>november</th>\n",
       "      <th>december</th>\n",
       "      <th>Monday</th>\n",
       "      <th>Saturday</th>\n",
       "      <th>Sunday</th>\n",
       "      <th>Thursday</th>\n",
       "      <th>Tuesday</th>\n",
       "      <th>Wednesday</th>\n",
       "      <th>cloudy</th>\n",
       "      <th>light snow/rain</th>\n",
       "    </tr>\n",
       "  </thead>\n",
       "  <tbody>\n",
       "    <tr>\n",
       "      <th>0</th>\n",
       "      <td>0</td>\n",
       "      <td>0</td>\n",
       "      <td>1</td>\n",
       "      <td>14.110847</td>\n",
       "      <td>80.5833</td>\n",
       "      <td>10.749882</td>\n",
       "      <td>985</td>\n",
       "      <td>0</td>\n",
       "      <td>0</td>\n",
       "      <td>0</td>\n",
       "      <td>...</td>\n",
       "      <td>0</td>\n",
       "      <td>0</td>\n",
       "      <td>1</td>\n",
       "      <td>0</td>\n",
       "      <td>0</td>\n",
       "      <td>0</td>\n",
       "      <td>0</td>\n",
       "      <td>0</td>\n",
       "      <td>1</td>\n",
       "      <td>0</td>\n",
       "    </tr>\n",
       "    <tr>\n",
       "      <th>1</th>\n",
       "      <td>0</td>\n",
       "      <td>0</td>\n",
       "      <td>1</td>\n",
       "      <td>14.902598</td>\n",
       "      <td>69.6087</td>\n",
       "      <td>16.652113</td>\n",
       "      <td>801</td>\n",
       "      <td>0</td>\n",
       "      <td>0</td>\n",
       "      <td>0</td>\n",
       "      <td>...</td>\n",
       "      <td>0</td>\n",
       "      <td>0</td>\n",
       "      <td>0</td>\n",
       "      <td>0</td>\n",
       "      <td>0</td>\n",
       "      <td>0</td>\n",
       "      <td>1</td>\n",
       "      <td>0</td>\n",
       "      <td>1</td>\n",
       "      <td>0</td>\n",
       "    </tr>\n",
       "    <tr>\n",
       "      <th>2</th>\n",
       "      <td>0</td>\n",
       "      <td>0</td>\n",
       "      <td>1</td>\n",
       "      <td>8.050924</td>\n",
       "      <td>43.7273</td>\n",
       "      <td>16.636703</td>\n",
       "      <td>1349</td>\n",
       "      <td>0</td>\n",
       "      <td>0</td>\n",
       "      <td>0</td>\n",
       "      <td>...</td>\n",
       "      <td>0</td>\n",
       "      <td>0</td>\n",
       "      <td>0</td>\n",
       "      <td>0</td>\n",
       "      <td>0</td>\n",
       "      <td>0</td>\n",
       "      <td>0</td>\n",
       "      <td>1</td>\n",
       "      <td>0</td>\n",
       "      <td>0</td>\n",
       "    </tr>\n",
       "    <tr>\n",
       "      <th>3</th>\n",
       "      <td>0</td>\n",
       "      <td>0</td>\n",
       "      <td>1</td>\n",
       "      <td>8.200000</td>\n",
       "      <td>59.0435</td>\n",
       "      <td>10.739832</td>\n",
       "      <td>1562</td>\n",
       "      <td>0</td>\n",
       "      <td>0</td>\n",
       "      <td>0</td>\n",
       "      <td>...</td>\n",
       "      <td>0</td>\n",
       "      <td>0</td>\n",
       "      <td>0</td>\n",
       "      <td>0</td>\n",
       "      <td>0</td>\n",
       "      <td>1</td>\n",
       "      <td>0</td>\n",
       "      <td>0</td>\n",
       "      <td>0</td>\n",
       "      <td>0</td>\n",
       "    </tr>\n",
       "    <tr>\n",
       "      <th>4</th>\n",
       "      <td>0</td>\n",
       "      <td>0</td>\n",
       "      <td>1</td>\n",
       "      <td>9.305237</td>\n",
       "      <td>43.6957</td>\n",
       "      <td>12.522300</td>\n",
       "      <td>1600</td>\n",
       "      <td>0</td>\n",
       "      <td>0</td>\n",
       "      <td>0</td>\n",
       "      <td>...</td>\n",
       "      <td>0</td>\n",
       "      <td>0</td>\n",
       "      <td>0</td>\n",
       "      <td>0</td>\n",
       "      <td>0</td>\n",
       "      <td>0</td>\n",
       "      <td>0</td>\n",
       "      <td>0</td>\n",
       "      <td>0</td>\n",
       "      <td>0</td>\n",
       "    </tr>\n",
       "  </tbody>\n",
       "</table>\n",
       "<p>5 rows × 29 columns</p>\n",
       "</div>"
      ],
      "text/plain": [
       "   yr  holiday  workingday       temp      hum  windspeed   cnt  summer  fall  \\\n",
       "0   0        0           1  14.110847  80.5833  10.749882   985       0     0   \n",
       "1   0        0           1  14.902598  69.6087  16.652113   801       0     0   \n",
       "2   0        0           1   8.050924  43.7273  16.636703  1349       0     0   \n",
       "3   0        0           1   8.200000  59.0435  10.739832  1562       0     0   \n",
       "4   0        0           1   9.305237  43.6957  12.522300  1600       0     0   \n",
       "\n",
       "   winter  ...  november  december  Monday  Saturday  Sunday  Thursday  \\\n",
       "0       0  ...         0         0       1         0       0         0   \n",
       "1       0  ...         0         0       0         0       0         0   \n",
       "2       0  ...         0         0       0         0       0         0   \n",
       "3       0  ...         0         0       0         0       0         1   \n",
       "4       0  ...         0         0       0         0       0         0   \n",
       "\n",
       "   Tuesday  Wednesday  cloudy  light snow/rain  \n",
       "0        0          0       1                0  \n",
       "1        1          0       1                0  \n",
       "2        0          1       0                0  \n",
       "3        0          0       0                0  \n",
       "4        0          0       0                0  \n",
       "\n",
       "[5 rows x 29 columns]"
      ]
     },
     "execution_count": 154,
     "metadata": {},
     "output_type": "execute_result"
    }
   ],
   "source": [
    "data.head()"
   ]
  },
  {
   "cell_type": "code",
   "execution_count": 155,
   "id": "8cf7d4e8",
   "metadata": {},
   "outputs": [
    {
     "data": {
      "text/plain": [
       "Index(['yr', 'holiday', 'workingday', 'temp', 'hum', 'windspeed', 'cnt',\n",
       "       'summer', 'fall', 'winter', 'february', 'march', 'april', 'may', 'june',\n",
       "       'july', 'august', 'september', 'october', 'november', 'december',\n",
       "       'Monday', 'Saturday', 'Sunday', 'Thursday', 'Tuesday', 'Wednesday',\n",
       "       'cloudy', 'light snow/rain'],\n",
       "      dtype='object')"
      ]
     },
     "execution_count": 155,
     "metadata": {},
     "output_type": "execute_result"
    }
   ],
   "source": [
    "data.columns"
   ]
  },
  {
   "cell_type": "markdown",
   "id": "b3413c37",
   "metadata": {},
   "source": [
    "#### SPLITTING THE DATA SET INTO TEST & TRAIN SUBSETS"
   ]
  },
  {
   "cell_type": "code",
   "execution_count": 156,
   "id": "3fa1ae4e",
   "metadata": {},
   "outputs": [],
   "source": [
    "from sklearn.model_selection import train_test_split"
   ]
  },
  {
   "cell_type": "code",
   "execution_count": 157,
   "id": "886a08b2",
   "metadata": {},
   "outputs": [],
   "source": [
    "dtrain,dtest = train_test_split(data,train_size=0.7,test_size=0.3,random_state=120)"
   ]
  },
  {
   "cell_type": "markdown",
   "id": "0e5a7096",
   "metadata": {},
   "source": [
    "### SCALING NUMERICAL FEATURES"
   ]
  },
  {
   "cell_type": "code",
   "execution_count": 158,
   "id": "97a7225d",
   "metadata": {},
   "outputs": [],
   "source": [
    "# normalisation of continuous variables\n",
    "from sklearn.preprocessing import MinMaxScaler\n",
    "numerical_scaler=MinMaxScaler()\n",
    "num_vars=['temp','hum','windspeed']\n",
    "\n",
    "numerical_scaler.fit(dtrain[num_vars])\n",
    "dtrain[num_vars]=numerical_scaler.transform(dtrain[num_vars])"
   ]
  },
  {
   "cell_type": "markdown",
   "id": "52b09c1c",
   "metadata": {},
   "source": [
    "### X_train, y_train"
   ]
  },
  {
   "cell_type": "code",
   "execution_count": 159,
   "id": "d6f3a063",
   "metadata": {},
   "outputs": [],
   "source": [
    "y_train=dtrain.pop('cnt')\n",
    "X_train=dtrain"
   ]
  },
  {
   "cell_type": "code",
   "execution_count": 160,
   "id": "f19fed0e",
   "metadata": {},
   "outputs": [
    {
     "data": {
      "text/plain": [
       "231    5191\n",
       "717    5267\n",
       "107    3429\n",
       "595    4549\n",
       "485    5740\n",
       "Name: cnt, dtype: int64"
      ]
     },
     "execution_count": 160,
     "metadata": {},
     "output_type": "execute_result"
    }
   ],
   "source": [
    "y_train.head()"
   ]
  },
  {
   "cell_type": "code",
   "execution_count": 161,
   "id": "219f91b2",
   "metadata": {},
   "outputs": [
    {
     "data": {
      "text/html": [
       "<div>\n",
       "<style scoped>\n",
       "    .dataframe tbody tr th:only-of-type {\n",
       "        vertical-align: middle;\n",
       "    }\n",
       "\n",
       "    .dataframe tbody tr th {\n",
       "        vertical-align: top;\n",
       "    }\n",
       "\n",
       "    .dataframe thead th {\n",
       "        text-align: right;\n",
       "    }\n",
       "</style>\n",
       "<table border=\"1\" class=\"dataframe\">\n",
       "  <thead>\n",
       "    <tr style=\"text-align: right;\">\n",
       "      <th></th>\n",
       "      <th>yr</th>\n",
       "      <th>holiday</th>\n",
       "      <th>workingday</th>\n",
       "      <th>temp</th>\n",
       "      <th>hum</th>\n",
       "      <th>windspeed</th>\n",
       "      <th>summer</th>\n",
       "      <th>fall</th>\n",
       "      <th>winter</th>\n",
       "      <th>february</th>\n",
       "      <th>...</th>\n",
       "      <th>november</th>\n",
       "      <th>december</th>\n",
       "      <th>Monday</th>\n",
       "      <th>Saturday</th>\n",
       "      <th>Sunday</th>\n",
       "      <th>Thursday</th>\n",
       "      <th>Tuesday</th>\n",
       "      <th>Wednesday</th>\n",
       "      <th>cloudy</th>\n",
       "      <th>light snow/rain</th>\n",
       "    </tr>\n",
       "  </thead>\n",
       "  <tbody>\n",
       "    <tr>\n",
       "      <th>231</th>\n",
       "      <td>0</td>\n",
       "      <td>0</td>\n",
       "      <td>1</td>\n",
       "      <td>0.795440</td>\n",
       "      <td>0.584687</td>\n",
       "      <td>0.155696</td>\n",
       "      <td>0</td>\n",
       "      <td>1</td>\n",
       "      <td>0</td>\n",
       "      <td>0</td>\n",
       "      <td>...</td>\n",
       "      <td>0</td>\n",
       "      <td>0</td>\n",
       "      <td>1</td>\n",
       "      <td>0</td>\n",
       "      <td>0</td>\n",
       "      <td>0</td>\n",
       "      <td>0</td>\n",
       "      <td>0</td>\n",
       "      <td>0</td>\n",
       "      <td>0</td>\n",
       "    </tr>\n",
       "    <tr>\n",
       "      <th>717</th>\n",
       "      <td>1</td>\n",
       "      <td>0</td>\n",
       "      <td>1</td>\n",
       "      <td>0.340632</td>\n",
       "      <td>0.516822</td>\n",
       "      <td>0.355128</td>\n",
       "      <td>0</td>\n",
       "      <td>0</td>\n",
       "      <td>1</td>\n",
       "      <td>0</td>\n",
       "      <td>...</td>\n",
       "      <td>0</td>\n",
       "      <td>1</td>\n",
       "      <td>0</td>\n",
       "      <td>0</td>\n",
       "      <td>0</td>\n",
       "      <td>1</td>\n",
       "      <td>0</td>\n",
       "      <td>0</td>\n",
       "      <td>0</td>\n",
       "      <td>0</td>\n",
       "    </tr>\n",
       "    <tr>\n",
       "      <th>107</th>\n",
       "      <td>0</td>\n",
       "      <td>0</td>\n",
       "      <td>1</td>\n",
       "      <td>0.564921</td>\n",
       "      <td>0.401392</td>\n",
       "      <td>0.303720</td>\n",
       "      <td>1</td>\n",
       "      <td>0</td>\n",
       "      <td>0</td>\n",
       "      <td>0</td>\n",
       "      <td>...</td>\n",
       "      <td>0</td>\n",
       "      <td>0</td>\n",
       "      <td>0</td>\n",
       "      <td>0</td>\n",
       "      <td>0</td>\n",
       "      <td>0</td>\n",
       "      <td>0</td>\n",
       "      <td>1</td>\n",
       "      <td>0</td>\n",
       "      <td>0</td>\n",
       "    </tr>\n",
       "    <tr>\n",
       "      <th>595</th>\n",
       "      <td>1</td>\n",
       "      <td>0</td>\n",
       "      <td>1</td>\n",
       "      <td>0.718600</td>\n",
       "      <td>0.636891</td>\n",
       "      <td>0.110569</td>\n",
       "      <td>0</td>\n",
       "      <td>1</td>\n",
       "      <td>0</td>\n",
       "      <td>0</td>\n",
       "      <td>...</td>\n",
       "      <td>0</td>\n",
       "      <td>0</td>\n",
       "      <td>1</td>\n",
       "      <td>0</td>\n",
       "      <td>0</td>\n",
       "      <td>0</td>\n",
       "      <td>0</td>\n",
       "      <td>0</td>\n",
       "      <td>1</td>\n",
       "      <td>0</td>\n",
       "    </tr>\n",
       "    <tr>\n",
       "      <th>485</th>\n",
       "      <td>1</td>\n",
       "      <td>0</td>\n",
       "      <td>1</td>\n",
       "      <td>0.690564</td>\n",
       "      <td>0.564384</td>\n",
       "      <td>0.285008</td>\n",
       "      <td>1</td>\n",
       "      <td>0</td>\n",
       "      <td>0</td>\n",
       "      <td>0</td>\n",
       "      <td>...</td>\n",
       "      <td>0</td>\n",
       "      <td>0</td>\n",
       "      <td>0</td>\n",
       "      <td>0</td>\n",
       "      <td>0</td>\n",
       "      <td>0</td>\n",
       "      <td>0</td>\n",
       "      <td>1</td>\n",
       "      <td>1</td>\n",
       "      <td>0</td>\n",
       "    </tr>\n",
       "  </tbody>\n",
       "</table>\n",
       "<p>5 rows × 28 columns</p>\n",
       "</div>"
      ],
      "text/plain": [
       "     yr  holiday  workingday      temp       hum  windspeed  summer  fall  \\\n",
       "231   0        0           1  0.795440  0.584687   0.155696       0     1   \n",
       "717   1        0           1  0.340632  0.516822   0.355128       0     0   \n",
       "107   0        0           1  0.564921  0.401392   0.303720       1     0   \n",
       "595   1        0           1  0.718600  0.636891   0.110569       0     1   \n",
       "485   1        0           1  0.690564  0.564384   0.285008       1     0   \n",
       "\n",
       "     winter  february  ...  november  december  Monday  Saturday  Sunday  \\\n",
       "231       0         0  ...         0         0       1         0       0   \n",
       "717       1         0  ...         0         1       0         0       0   \n",
       "107       0         0  ...         0         0       0         0       0   \n",
       "595       0         0  ...         0         0       1         0       0   \n",
       "485       0         0  ...         0         0       0         0       0   \n",
       "\n",
       "     Thursday  Tuesday  Wednesday  cloudy  light snow/rain  \n",
       "231         0        0          0       0                0  \n",
       "717         1        0          0       0                0  \n",
       "107         0        0          1       0                0  \n",
       "595         0        0          0       1                0  \n",
       "485         0        0          1       1                0  \n",
       "\n",
       "[5 rows x 28 columns]"
      ]
     },
     "execution_count": 161,
     "metadata": {},
     "output_type": "execute_result"
    }
   ],
   "source": [
    "X_train.head()"
   ]
  },
  {
   "cell_type": "code",
   "execution_count": 162,
   "id": "372116b2",
   "metadata": {},
   "outputs": [
    {
     "data": {
      "text/plain": [
       "Index(['yr', 'holiday', 'workingday', 'temp', 'hum', 'windspeed', 'summer',\n",
       "       'fall', 'winter', 'february', 'march', 'april', 'may', 'june', 'july',\n",
       "       'august', 'september', 'october', 'november', 'december', 'Monday',\n",
       "       'Saturday', 'Sunday', 'Thursday', 'Tuesday', 'Wednesday', 'cloudy',\n",
       "       'light snow/rain'],\n",
       "      dtype='object')"
      ]
     },
     "execution_count": 162,
     "metadata": {},
     "output_type": "execute_result"
    }
   ],
   "source": [
    "X_train.columns"
   ]
  },
  {
   "cell_type": "markdown",
   "id": "14cad37d",
   "metadata": {},
   "source": [
    "## Modelling"
   ]
  },
  {
   "cell_type": "markdown",
   "id": "dc87dd63",
   "metadata": {},
   "source": [
    "Approach \n",
    "- A mixed approach is followed\n",
    "- 15 best columns are chosen using RFE\n",
    "- And then p_value method is followed for further elimination."
   ]
  },
  {
   "cell_type": "markdown",
   "id": "546d7c15",
   "metadata": {},
   "source": [
    "#### Recrusive Feature elimination"
   ]
  },
  {
   "cell_type": "code",
   "execution_count": 163,
   "id": "6ccd0638",
   "metadata": {},
   "outputs": [],
   "source": [
    "# Selecting 15 Features using RFE \n",
    "\n",
    "from sklearn.feature_selection import RFE\n",
    "from sklearn.linear_model import LinearRegression\n",
    "\n",
    "lr_estimator = LinearRegression()\n",
    "rfe = RFE(lr_estimator,n_features_to_select=15, step=1)\n",
    "selector = rfe.fit(X_train,y_train)"
   ]
  },
  {
   "cell_type": "code",
   "execution_count": 164,
   "id": "0585bdd4",
   "metadata": {},
   "outputs": [
    {
     "data": {
      "text/html": [
       "<div>\n",
       "<style scoped>\n",
       "    .dataframe tbody tr th:only-of-type {\n",
       "        vertical-align: middle;\n",
       "    }\n",
       "\n",
       "    .dataframe tbody tr th {\n",
       "        vertical-align: top;\n",
       "    }\n",
       "\n",
       "    .dataframe thead th {\n",
       "        text-align: right;\n",
       "    }\n",
       "</style>\n",
       "<table border=\"1\" class=\"dataframe\">\n",
       "  <thead>\n",
       "    <tr style=\"text-align: right;\">\n",
       "      <th></th>\n",
       "      <th>rank</th>\n",
       "      <th>support</th>\n",
       "      <th>features</th>\n",
       "    </tr>\n",
       "  </thead>\n",
       "  <tbody>\n",
       "    <tr>\n",
       "      <th>0</th>\n",
       "      <td>1</td>\n",
       "      <td>True</td>\n",
       "      <td>yr</td>\n",
       "    </tr>\n",
       "    <tr>\n",
       "      <th>22</th>\n",
       "      <td>1</td>\n",
       "      <td>True</td>\n",
       "      <td>Sunday</td>\n",
       "    </tr>\n",
       "    <tr>\n",
       "      <th>21</th>\n",
       "      <td>1</td>\n",
       "      <td>True</td>\n",
       "      <td>Saturday</td>\n",
       "    </tr>\n",
       "    <tr>\n",
       "      <th>17</th>\n",
       "      <td>1</td>\n",
       "      <td>True</td>\n",
       "      <td>october</td>\n",
       "    </tr>\n",
       "    <tr>\n",
       "      <th>16</th>\n",
       "      <td>1</td>\n",
       "      <td>True</td>\n",
       "      <td>september</td>\n",
       "    </tr>\n",
       "    <tr>\n",
       "      <th>14</th>\n",
       "      <td>1</td>\n",
       "      <td>True</td>\n",
       "      <td>july</td>\n",
       "    </tr>\n",
       "    <tr>\n",
       "      <th>26</th>\n",
       "      <td>1</td>\n",
       "      <td>True</td>\n",
       "      <td>cloudy</td>\n",
       "    </tr>\n",
       "    <tr>\n",
       "      <th>8</th>\n",
       "      <td>1</td>\n",
       "      <td>True</td>\n",
       "      <td>winter</td>\n",
       "    </tr>\n",
       "    <tr>\n",
       "      <th>27</th>\n",
       "      <td>1</td>\n",
       "      <td>True</td>\n",
       "      <td>light snow/rain</td>\n",
       "    </tr>\n",
       "    <tr>\n",
       "      <th>6</th>\n",
       "      <td>1</td>\n",
       "      <td>True</td>\n",
       "      <td>summer</td>\n",
       "    </tr>\n",
       "    <tr>\n",
       "      <th>5</th>\n",
       "      <td>1</td>\n",
       "      <td>True</td>\n",
       "      <td>windspeed</td>\n",
       "    </tr>\n",
       "    <tr>\n",
       "      <th>4</th>\n",
       "      <td>1</td>\n",
       "      <td>True</td>\n",
       "      <td>hum</td>\n",
       "    </tr>\n",
       "    <tr>\n",
       "      <th>3</th>\n",
       "      <td>1</td>\n",
       "      <td>True</td>\n",
       "      <td>temp</td>\n",
       "    </tr>\n",
       "    <tr>\n",
       "      <th>7</th>\n",
       "      <td>1</td>\n",
       "      <td>True</td>\n",
       "      <td>fall</td>\n",
       "    </tr>\n",
       "    <tr>\n",
       "      <th>2</th>\n",
       "      <td>1</td>\n",
       "      <td>True</td>\n",
       "      <td>workingday</td>\n",
       "    </tr>\n",
       "    <tr>\n",
       "      <th>10</th>\n",
       "      <td>2</td>\n",
       "      <td>False</td>\n",
       "      <td>march</td>\n",
       "    </tr>\n",
       "    <tr>\n",
       "      <th>12</th>\n",
       "      <td>3</td>\n",
       "      <td>False</td>\n",
       "      <td>may</td>\n",
       "    </tr>\n",
       "    <tr>\n",
       "      <th>25</th>\n",
       "      <td>4</td>\n",
       "      <td>False</td>\n",
       "      <td>Wednesday</td>\n",
       "    </tr>\n",
       "    <tr>\n",
       "      <th>24</th>\n",
       "      <td>5</td>\n",
       "      <td>False</td>\n",
       "      <td>Tuesday</td>\n",
       "    </tr>\n",
       "    <tr>\n",
       "      <th>20</th>\n",
       "      <td>6</td>\n",
       "      <td>False</td>\n",
       "      <td>Monday</td>\n",
       "    </tr>\n",
       "    <tr>\n",
       "      <th>9</th>\n",
       "      <td>7</td>\n",
       "      <td>False</td>\n",
       "      <td>february</td>\n",
       "    </tr>\n",
       "    <tr>\n",
       "      <th>1</th>\n",
       "      <td>8</td>\n",
       "      <td>False</td>\n",
       "      <td>holiday</td>\n",
       "    </tr>\n",
       "    <tr>\n",
       "      <th>11</th>\n",
       "      <td>9</td>\n",
       "      <td>False</td>\n",
       "      <td>april</td>\n",
       "    </tr>\n",
       "    <tr>\n",
       "      <th>13</th>\n",
       "      <td>10</td>\n",
       "      <td>False</td>\n",
       "      <td>june</td>\n",
       "    </tr>\n",
       "    <tr>\n",
       "      <th>18</th>\n",
       "      <td>11</td>\n",
       "      <td>False</td>\n",
       "      <td>november</td>\n",
       "    </tr>\n",
       "    <tr>\n",
       "      <th>15</th>\n",
       "      <td>12</td>\n",
       "      <td>False</td>\n",
       "      <td>august</td>\n",
       "    </tr>\n",
       "    <tr>\n",
       "      <th>23</th>\n",
       "      <td>13</td>\n",
       "      <td>False</td>\n",
       "      <td>Thursday</td>\n",
       "    </tr>\n",
       "    <tr>\n",
       "      <th>19</th>\n",
       "      <td>14</td>\n",
       "      <td>False</td>\n",
       "      <td>december</td>\n",
       "    </tr>\n",
       "  </tbody>\n",
       "</table>\n",
       "</div>"
      ],
      "text/plain": [
       "    rank  support         features\n",
       "0      1     True               yr\n",
       "22     1     True           Sunday\n",
       "21     1     True         Saturday\n",
       "17     1     True          october\n",
       "16     1     True        september\n",
       "14     1     True             july\n",
       "26     1     True           cloudy\n",
       "8      1     True           winter\n",
       "27     1     True  light snow/rain\n",
       "6      1     True           summer\n",
       "5      1     True        windspeed\n",
       "4      1     True              hum\n",
       "3      1     True             temp\n",
       "7      1     True             fall\n",
       "2      1     True       workingday\n",
       "10     2    False            march\n",
       "12     3    False              may\n",
       "25     4    False        Wednesday\n",
       "24     5    False          Tuesday\n",
       "20     6    False           Monday\n",
       "9      7    False         february\n",
       "1      8    False          holiday\n",
       "11     9    False            april\n",
       "13    10    False             june\n",
       "18    11    False         november\n",
       "15    12    False           august\n",
       "23    13    False         Thursday\n",
       "19    14    False         december"
      ]
     },
     "execution_count": 164,
     "metadata": {},
     "output_type": "execute_result"
    }
   ],
   "source": [
    "# RFE Feature Ranking\n",
    "rfe_ranking = pd.DataFrame({'rank' : selector.ranking_, 'support': selector.support_, 'features' : X_train.columns}).sort_values(by='rank',ascending=True)\n",
    "rfe_ranking"
   ]
  },
  {
   "cell_type": "code",
   "execution_count": 165,
   "id": "03e39a6d",
   "metadata": {},
   "outputs": [
    {
     "data": {
      "text/plain": [
       "array(['yr', 'Sunday', 'Saturday', 'october', 'september', 'july',\n",
       "       'cloudy', 'winter', 'light snow/rain', 'summer', 'windspeed',\n",
       "       'hum', 'temp', 'fall', 'workingday'], dtype=object)"
      ]
     },
     "execution_count": 165,
     "metadata": {},
     "output_type": "execute_result"
    }
   ],
   "source": [
    "# Selection Features\n",
    "selected_features=rfe_ranking.loc[rfe_ranking['rank']==1,'features'].values\n",
    "selected_features"
   ]
  },
  {
   "cell_type": "markdown",
   "id": "89b65e8d",
   "metadata": {},
   "source": [
    "### MANUAL ELIMINATION"
   ]
  },
  {
   "cell_type": "code",
   "execution_count": 166,
   "id": "86c52c82",
   "metadata": {},
   "outputs": [],
   "source": [
    "# following a stepwise elimination\n",
    "\n",
    "import statsmodels.api as sm\n",
    "def ols_fit(y,x):\n",
    "    X_train_sm = sm.add_constant(X)\n",
    "    model = sm.OLS(y,X_train_sm).fit()\n",
    "    print(model.summary())\n",
    "    return model\n",
    "def vif(X) : \n",
    "    df = sm.add_constant(X)\n",
    "    vif = [variance_inflation_factor(df.values,i) for i in range(df.shape[1])]\n",
    "    vif_frame = pd.DataFrame({'vif' : vif[0:]},index = df.columns).reset_index()\n",
    "    print(vif_frame.sort_values(by='vif',ascending=False))\n",
    "    "
   ]
  },
  {
   "cell_type": "markdown",
   "id": "34fdc108",
   "metadata": {},
   "source": [
    "#### MODEL 1\n",
    "\n",
    "- using features selected by RFE : 'yr', 'Sunday', 'Saturday', 'november', 'january', 'december',\n",
    " 'winter', 'july', 'spring', 'holiday', 'workingday', 'hum', 'temp',\n",
    " 'windspeed', 'light snow/rain'"
   ]
  },
  {
   "cell_type": "code",
   "execution_count": null,
   "id": "6115fd1e",
   "metadata": {},
   "outputs": [],
   "source": [
    "features_1 = selected_features\n",
    "ols_fit(y_train, X_train[features_1])"
   ]
  },
  {
   "cell_type": "markdown",
   "id": "bf20c757",
   "metadata": {},
   "source": [
    "                  OLS Regression Results                            \n",
    "==============================================================================\n",
    "Dep. Variable:                    cnt   R-squared:                       0.844\n",
    "Model:                            OLS   Adj. R-squared:                  0.840\n",
    "Method:                 Least Squares   F-statistic:                     189.8\n",
    "Date:                Mon, 27 Jul 2020   Prob (F-statistic):          9.27e-188\n",
    "Time:                        06:36:30   Log-Likelihood:                -4072.4\n",
    "No. Observations:                 506   AIC:                             8175.\n",
    "Df Residuals:                     491   BIC:                             8238.\n",
    "Df Model:                          14                                         \n",
    "Covariance Type:            nonrobust                                         \n",
    "===================================================================================\n",
    "                      coef    std err          t      P>|t|      [0.025      0.975]\n",
    "-----------------------------------------------------------------------------------\n",
    "const            2278.2820    192.838     11.815      0.000    1899.393    2657.171\n",
    "yr               1959.7590     69.543     28.180      0.000    1823.120    2096.398\n",
    "Sunday            497.0421     97.123      5.118      0.000     306.214     687.871\n",
    "Saturday          874.2613     95.093      9.194      0.000     687.422    1061.101\n",
    "november         -617.4927    158.994     -3.884      0.000    -929.885    -305.100\n",
    "january          -391.9320    149.160     -2.628      0.009    -685.002     -98.862\n",
    "december         -475.8630    142.634     -3.336      0.001    -756.112    -195.614\n",
    "winter            687.2832    121.588      5.653      0.000     448.387     926.180\n",
    "july             -804.3128    141.415     -5.688      0.000   -1082.166    -526.459\n",
    "spring          -1010.6061    134.437     -7.517      0.000   -1274.749    -746.464\n",
    "holiday           165.4153    160.101      1.033      0.302    -149.152     479.982\n",
    "workingday        741.5633     73.655     10.068      0.000     596.846     886.280\n",
    "hum             -1782.6033    198.667     -8.973      0.000   -2172.947   -1392.260\n",
    "temp             4036.2727    275.497     14.651      0.000    3494.974    4577.571\n",
    "windspeed       -1167.6983    188.628     -6.190      0.000   -1538.315    -797.081\n",
    "light snow/rain -1276.7947    234.425     -5.446      0.000   -1737.395    -816.194\n",
    "==============================================================================\n",
    "Omnibus:                       74.940   Durbin-Watson:                   1.920\n",
    "Prob(Omnibus):                  0.000   Jarque-Bera (JB):              164.191\n",
    "Skew:                          -0.800   Prob(JB):                     2.22e-36\n",
    "Kurtosis:                       5.286   Cond. No.                     6.67e+15\n",
    "==============================================================================\n",
    "\n",
    "Warnings:\n",
    "[1] Standard Errors assume that the covariance matrix of the errors is correctly specified.\n",
    "[2] The smallest eigenvalue is 3.03e-29. This might indicate that there are\n",
    "strong multicollinearity problems or that the design matrix is singular.\n",
    "\n",
    "<statsmodels.regression.linear_model.RegressionResultsWrapper at 0x7fcbf5cdae50>\n",
    "\n",
    "\n",
    "\n"
   ]
  },
  {
   "cell_type": "markdown",
   "id": "f1c21c99",
   "metadata": {},
   "source": [
    "### Model 2 : Dropping holiday because of high p-value\n"
   ]
  },
  {
   "cell_type": "code",
   "execution_count": null,
   "id": "98e4b1a3",
   "metadata": {},
   "outputs": [],
   "source": [
    "del_feature = 'holiday'\n",
    "selected_features = selected_features[selected_features!=del_feature]\n",
    "ols_fit(y_train,X_train[selected_features])"
   ]
  },
  {
   "cell_type": "markdown",
   "id": "31fa3e57",
   "metadata": {},
   "source": [
    "### Model 3 : Dropping Sunday because of high p-value"
   ]
  },
  {
   "cell_type": "code",
   "execution_count": null,
   "id": "ebc95953",
   "metadata": {},
   "outputs": [],
   "source": [
    "del_feature = 'Sunday'\n",
    "selected_features = selected_features[selected_features!=del_feature]\n",
    "ols_fit(y_train,X_train[selected_features])"
   ]
  },
  {
   "cell_type": "markdown",
   "id": "5958dad7",
   "metadata": {},
   "source": [
    "### Model 4: Dropping january because this information might also be contained in winter"
   ]
  },
  {
   "cell_type": "code",
   "execution_count": null,
   "id": "9ff244d4",
   "metadata": {},
   "outputs": [],
   "source": [
    "del_feature = 'january'\n",
    "selected_features = selected_features[selected_features!=del_feature]\n",
    "ols_fit(y_train,X_train[selected_features])"
   ]
  },
  {
   "cell_type": "markdown",
   "id": "08aa2548",
   "metadata": {},
   "source": [
    "### Model 5:Dropping december because this information might also be contained in winter."
   ]
  },
  {
   "cell_type": "code",
   "execution_count": null,
   "id": "7a2cd768",
   "metadata": {},
   "outputs": [],
   "source": [
    "del_feature = 'december'\n",
    "selected_features = selected_features[selected_features!=del_feature]\n",
    "ols_fit(y_train,X_train[selected_features])"
   ]
  },
  {
   "cell_type": "markdown",
   "id": "78591504",
   "metadata": {},
   "source": [
    "### Model 6: Dropping november because this information might also be contained in winter."
   ]
  },
  {
   "cell_type": "code",
   "execution_count": null,
   "id": "135d95a4",
   "metadata": {},
   "outputs": [],
   "source": [
    "del_feature = 'november'\n",
    "selected_features = selected_features[selected_features!=del_feature]\n",
    "final_model = ols_fit(y_train,X_train[selected_features])"
   ]
  },
  {
   "cell_type": "code",
   "execution_count": 173,
   "id": "1733f56b",
   "metadata": {},
   "outputs": [
    {
     "name": "stdout",
     "output_type": "stream",
     "text": [
      "              index        vif\n",
      "0             const  32.876533\n",
      "13             fall   5.498262\n",
      "12             temp   3.941079\n",
      "9            summer   2.747039\n",
      "11              hum   2.299608\n",
      "7            winter   2.177147\n",
      "6            cloudy   1.797689\n",
      "14       workingday   1.674259\n",
      "2          Saturday   1.656346\n",
      "5              july   1.590544\n",
      "3           october   1.532294\n",
      "8   light snow/rain   1.407098\n",
      "4         september   1.370542\n",
      "10        windspeed   1.212160\n",
      "1                yr   1.042242\n"
     ]
    }
   ],
   "source": [
    "vif(X_train[selected_features])"
   ]
  },
  {
   "cell_type": "markdown",
   "id": "12e93225",
   "metadata": {},
   "source": [
    "### Final Model"
   ]
  },
  {
   "cell_type": "code",
   "execution_count": null,
   "id": "4a802b3f",
   "metadata": {},
   "outputs": [],
   "source": [
    "final_model = ols_fit(y_train,X_train[selected_features])"
   ]
  },
  {
   "cell_type": "markdown",
   "id": "dd9c7ca9",
   "metadata": {},
   "source": [
    "OLS Regression Results                            \n",
    "==============================================================================\n",
    "Dep. Variable:                    cnt   R-squared:                       0.836\n",
    "Model:                            OLS   Adj. R-squared:                  0.833\n",
    "Method:                 Least Squares   F-statistic:                     252.0\n",
    "Date:                Mon, 27 Jul 2020   Prob (F-statistic):          4.89e-187\n",
    "Time:                        06:36:31   Log-Likelihood:                -4085.3\n",
    "No. Observations:                 506   AIC:                             8193.\n",
    "Df Residuals:                     495   BIC:                             8239.\n",
    "Df Model:                          10                                         \n",
    "Covariance Type:            nonrobust                                         \n",
    "===================================================================================\n",
    "                      coef    std err          t      P>|t|      [0.025      0.975]\n",
    "-----------------------------------------------------------------------------------\n",
    "const            2392.0791    242.318      9.872      0.000    1915.980    2868.178\n",
    "yr               1946.7864     70.967     27.432      0.000    1807.353    2086.220\n",
    "Saturday          444.4907    126.045      3.526      0.000     196.842     692.139\n",
    "winter            466.0136    109.450      4.258      0.000     250.970     681.057\n",
    "july             -890.3115    143.244     -6.215      0.000   -1171.752    -608.871\n",
    "spring          -1063.6669    132.613     -8.021      0.000   -1324.220    -803.114\n",
    "workingday        296.8008     95.388      3.112      0.002     109.386     484.216\n",
    "hum             -1749.8275    201.947     -8.665      0.000   -2146.607   -1353.048\n",
    "temp             4471.6602    262.111     17.060      0.000    3956.673    4986.648\n",
    "windspeed       -1110.3191    191.742     -5.791      0.000   -1487.049    -733.590\n",
    "light snow/rain -1273.7519    239.422     -5.320      0.000   -1744.160    -803.344\n",
    "==============================================================================\n",
    "Omnibus:                       69.587   Durbin-Watson:                   1.898\n",
    "Prob(Omnibus):                  0.000   Jarque-Bera (JB):              136.276\n",
    "Skew:                          -0.788   Prob(JB):                     2.56e-30\n",
    "Kurtosis:                       4.995   Cond. No.                         16.5\n",
    "==============================================================================\n",
    "\n",
    "\n",
    "Warnings:\n",
    "[1] Standard Errors assume that the covariance matrix of the errors is correctly specified.\n",
    "\n",
    "\n",
    "-10 features have been selected.\n",
    "\n",
    "-All the features are statistically significant [low p-value]\n",
    "\n",
    "-The model over is a good fit with Prob (F-statistic): 4.89e-187\n",
    "\n",
    "-The model explains 83.6% variability in the training data. Adjusted R-square being 83.3%"
   ]
  },
  {
   "cell_type": "markdown",
   "id": "8554d6dd",
   "metadata": {},
   "source": [
    "### RESIDUAL ANALYSIS"
   ]
  },
  {
   "cell_type": "code",
   "execution_count": null,
   "id": "cdf88801",
   "metadata": {},
   "outputs": [],
   "source": [
    "# Residual Analysis of Trained Data\n",
    "X_train_sm = sm.add_constant(X_train[selected_features])\n",
    "\n",
    "y_train_pred = final_model.predict(X_train_sm)\n",
    "fig,ax = plt.subplots(1,2)\n",
    "fig.set_figheight(8)\n",
    "fig.set_figwidth(16)\n",
    "\n",
    "ax[0].set(title='Frequency Distribution of Residuals')\n",
    "sns.distplot(y_train-y_train_pred, bins=30, ax=ax[0])\n",
    "\n",
    "ax[1].set(title='Predicted Values vs Residuals')\n",
    "\\\n",
    "sns.regplot(y_train_pred,y_train-y_train_pred,ax=ax[1])\n",
    "plt.show()"
   ]
  },
  {
   "cell_type": "code",
   "execution_count": 180,
   "id": "14f4487b",
   "metadata": {},
   "outputs": [
    {
     "data": {
      "text/plain": [
       "4419.658102766798"
      ]
     },
     "execution_count": 180,
     "metadata": {},
     "output_type": "execute_result"
    }
   ],
   "source": [
    "# Mean of Residuals\n",
    "(y_train).mean()"
   ]
  },
  {
   "cell_type": "markdown",
   "id": "5ea3daea",
   "metadata": {},
   "source": [
    "-Residual errors follow a normal distribution with mean=0\n",
    "\n",
    "-Variance of Errors doesnt follow any trends\n",
    "\n",
    "-Residual errors are independent of each other since the Predicted values vs Residuals plot doesn't show any trend."
   ]
  },
  {
   "cell_type": "code",
   "execution_count": 179,
   "id": "ac3086fe",
   "metadata": {},
   "outputs": [
    {
     "data": {
      "image/png": "[encoded data removed]",
      "text/plain": [
       "<Figure size 432x288 with 1 Axes>"
      ]
     },
     "metadata": {},
     "output_type": "display_data"
    }
   ],
   "source": [
    "# Verifying the normality of distribution of residuals \n",
    "mean = (y_train).mean()\n",
    "std = (y_train).std()\n",
    "\n",
    "ref_normal = np.random.normal(mean,std,(y_train).shape[0])\n",
    "\n",
    "\n",
    "percs = np.linspace(0,100,21)\n",
    "qn_ref_normal = np.percentile(ref_normal, percs)\n",
    "qn_residual = np.percentile(y_train , percs)\n",
    "\n",
    "plt.plot(qn_ref_normal,qn_residual, ls=\"\", marker=\"o\")\n",
    "\n",
    "x = np.linspace(np.min((qn_ref_normal.min(),qn_residual.min())), np.max((qn_ref_normal.max(),qn_residual.max())))\n",
    "plt.plot(x,x, color=\"k\", ls=\"--\")\n",
    "plt.title('Q-Q Plot : Reference Normal vs Distribution of Residuals ')\n",
    "plt.show()\n"
   ]
  },
  {
   "cell_type": "markdown",
   "id": "6644b3a3",
   "metadata": {},
   "source": [
    "-This plot further shows that the residual distribution is approximately normal for all test data with values within range of training data. Extrapolated points show significant predict inaccuracy."
   ]
  },
  {
   "cell_type": "code",
   "execution_count": 184,
   "id": "0670b9a1",
   "metadata": {},
   "outputs": [
    {
     "data": {
      "text/plain": [
       "<AxesSubplot:xlabel='y(t)', ylabel='y(t + 1)'>"
      ]
     },
     "execution_count": 184,
     "metadata": {},
     "output_type": "execute_result"
    },
    {
     "data": {
      "image/png": "[encoded data removed]",
      "text/plain": [
       "<Figure size 432x288 with 1 Axes>"
      ]
     },
     "metadata": {},
     "output_type": "display_data"
    }
   ],
   "source": [
    "# lag plot to assess independence of data points\n",
    "from pandas.plotting import lag_plot\n",
    "lag_plot(y_train-y_train_pred)"
   ]
  },
  {
   "cell_type": "markdown",
   "id": "7d86d57c",
   "metadata": {},
   "source": [
    "-Lagplot of residuals shows no trend. Hence the error terms have constant variance\n",
    "#### Hence, assumptions of Linear Regression are satisfied by this model"
   ]
  },
  {
   "cell_type": "markdown",
   "id": "588679dc",
   "metadata": {},
   "source": [
    "### PREDICTION"
   ]
  },
  {
   "cell_type": "code",
   "execution_count": 185,
   "id": "29c766d0",
   "metadata": {},
   "outputs": [],
   "source": [
    "y_test = dtest.pop('cnt')\n",
    "X_test = dtest\n",
    "X_test[num_vars] = numerical_scaler.transform(X_test[num_vars])\n",
    "X_test = X_test[selected_features]"
   ]
  },
  {
   "cell_type": "code",
   "execution_count": null,
   "id": "d89aa9a3",
   "metadata": {},
   "outputs": [],
   "source": [
    "X_test = sm.add_constant(X_test)\n",
    "y_test_pred = final_model.predict(X_test)"
   ]
  },
  {
   "cell_type": "markdown",
   "id": "c1cdc06b",
   "metadata": {},
   "source": [
    "### MODEL EVALUATION"
   ]
  },
  {
   "cell_type": "code",
   "execution_count": 193,
   "id": "0cce862c",
   "metadata": {},
   "outputs": [
    {
     "ename": "NameError",
     "evalue": "name 'y_test_pred' is not defined",
     "output_type": "error",
     "traceback": [
      "\u001b[1;31m---------------------------------------------------------------------------\u001b[0m",
      "\u001b[1;31mNameError\u001b[0m                                 Traceback (most recent call last)",
      "Input \u001b[1;32mIn [193]\u001b[0m, in \u001b[0;36m<cell line: 6>\u001b[1;34m()\u001b[0m\n\u001b[0;32m      4\u001b[0m fig\u001b[38;5;241m.\u001b[39mset_figwidth(\u001b[38;5;241m20\u001b[39m)\n\u001b[0;32m      5\u001b[0m l1,\u001b[38;5;241m=\u001b[39max\u001b[38;5;241m.\u001b[39mplot(\u001b[38;5;28mrange\u001b[39m(\u001b[38;5;28mlen\u001b[39m(y_test)),y_test)\n\u001b[1;32m----> 6\u001b[0m l2, \u001b[38;5;241m=\u001b[39m ax\u001b[38;5;241m.\u001b[39mplot(\u001b[38;5;28mrange\u001b[39m(\u001b[38;5;28mlen\u001b[39m(\u001b[43my_test_pred\u001b[49m)),y_test_pred)\n\u001b[0;32m      7\u001b[0m plt\u001b[38;5;241m.\u001b[39mlegend([l1,l2],[\u001b[38;5;124m'\u001b[39m\u001b[38;5;124mActual\u001b[39m\u001b[38;5;124m'\u001b[39m,\u001b[38;5;124m'\u001b[39m\u001b[38;5;124mPredicted\u001b[39m\u001b[38;5;124m'\u001b[39m])\n\u001b[0;32m      8\u001b[0m plt\u001b[38;5;241m.\u001b[39mtitle(\u001b[38;5;124m'\u001b[39m\u001b[38;5;124mPredicted vs Actual No of Rentals\u001b[39m\u001b[38;5;124m'\u001b[39m);\n",
      "\u001b[1;31mNameError\u001b[0m: name 'y_test_pred' is not defined"
     ]
    },
    {
     "data": {
      "image/png": "[encoded data removed]",
      "text/plain": [
       "<Figure size 1440x576 with 1 Axes>"
      ]
     },
     "metadata": {},
     "output_type": "display_data"
    }
   ],
   "source": [
    "# Plotting Actual vs Predicted No of rentals \n",
    "fig,ax = plt.subplots()\n",
    "fig.set_figheight(8)\n",
    "fig.set_figwidth(20)\n",
    "l1,=ax.plot(range(len(y_test)),y_test)\n",
    "l2, = ax.plot(range(len(y_test_pred)),y_test_pred)\n",
    "plt.legend([l1,l2],['Actual','Predicted'])\n",
    "plt.title('Predicted vs Actual No of Rentals');\n",
    "plt.ylabel('No of Bike Rentals')\n",
    "plt.xticks([])\n",
    "plt.show()\n",
    "\n",
    "plt.figure(figsize=[8,8])\n",
    "plt.scatter(y_test,y_test_pred);\n",
    "plt.title('Predicted vs Actual No of Rentals');"
   ]
  },
  {
   "cell_type": "code",
   "execution_count": null,
   "id": "e1a3ea5f",
   "metadata": {},
   "outputs": [],
   "source": [
    "from sklearn.metrics import mean_squared_error,r2_score\n",
    "mse = mean_squared_error(y_test, y_test_pred)\n",
    "rsquared_test = r2_score(y_test, y_test_pred)\n",
    "rsquared_train = r2_score(y_train, y_train_pred)\n",
    "print('R-squared for train data:',round(rsquared_train,2))\n",
    "print('R-squared for test data:',round(rsquared_test,2))\n",
    "print('Mean Squared Error',round(mse,3))"
   ]
  },
  {
   "cell_type": "markdown",
   "id": "cce577b1",
   "metadata": {},
   "source": [
    "R-squared for train data: 0.84\n",
    "\n",
    "R-squared for test data: 0.81\n",
    "\n",
    "Mean Squared Error 666097.695"
   ]
  },
  {
   "cell_type": "markdown",
   "id": "e0cc6eaa",
   "metadata": {},
   "source": [
    "### MODEL STABILITY"
   ]
  },
  {
   "cell_type": "code",
   "execution_count": 197,
   "id": "9b5b1cc4",
   "metadata": {},
   "outputs": [
    {
     "data": {
      "text/plain": [
       "array([0.80143711, 0.90145798, 0.75608675, 0.89772543, 0.83827587,\n",
       "       0.86347784, 0.86752598, 0.71417946, 0.72519603, 0.86476577])"
      ]
     },
     "execution_count": 197,
     "metadata": {},
     "output_type": "execute_result"
    }
   ],
   "source": [
    "# R-square using cross validation\n",
    "\n",
    "from sklearn.model_selection import cross_val_score\n",
    "from sklearn.linear_model import LinearRegression\n",
    "lr = LinearRegression()\n",
    "clr = cross_val_score(lr,X_train[selected_features],y_train,cv=10, scoring='r2')\n",
    "clr"
   ]
  },
  {
   "cell_type": "code",
   "execution_count": 198,
   "id": "3e04db57",
   "metadata": {},
   "outputs": [
    {
     "name": "stdout",
     "output_type": "stream",
     "text": [
      "R-square at 0.95 confidence level : 0.82 (+/- 0.13)\n"
     ]
    }
   ],
   "source": [
    "print(\"R-square at 0.95 confidence level : %0.2f (+/- %0.2f)\" % (clr.mean(), clr.std() * 2))"
   ]
  },
  {
   "cell_type": "code",
   "execution_count": 199,
   "id": "1ad06cee",
   "metadata": {},
   "outputs": [
    {
     "data": {
      "text/plain": [
       "array(['yr', 'Saturday', 'october', 'september', 'july', 'cloudy',\n",
       "       'winter', 'light snow/rain', 'summer', 'windspeed', 'hum', 'temp',\n",
       "       'fall', 'workingday'], dtype=object)"
      ]
     },
     "execution_count": 199,
     "metadata": {},
     "output_type": "execute_result"
    }
   ],
   "source": [
    "selected_features"
   ]
  },
  {
   "cell_type": "markdown",
   "id": "b30806ad",
   "metadata": {},
   "source": [
    "### TOP FEATURES"
   ]
  },
  {
   "cell_type": "code",
   "execution_count": 200,
   "id": "cc78cf78",
   "metadata": {},
   "outputs": [
    {
     "name": "stdout",
     "output_type": "stream",
     "text": [
      "\n",
      "Intercept : [1486.98749234]\n"
     ]
    },
    {
     "data": {
      "text/html": [
       "<div>\n",
       "<style scoped>\n",
       "    .dataframe tbody tr th:only-of-type {\n",
       "        vertical-align: middle;\n",
       "    }\n",
       "\n",
       "    .dataframe tbody tr th {\n",
       "        vertical-align: top;\n",
       "    }\n",
       "\n",
       "    .dataframe thead th {\n",
       "        text-align: right;\n",
       "    }\n",
       "</style>\n",
       "<table border=\"1\" class=\"dataframe\">\n",
       "  <thead>\n",
       "    <tr style=\"text-align: right;\">\n",
       "      <th></th>\n",
       "      <th>MLR Coefficients</th>\n",
       "    </tr>\n",
       "  </thead>\n",
       "  <tbody>\n",
       "    <tr>\n",
       "      <th>temp</th>\n",
       "      <td>4234.263716</td>\n",
       "    </tr>\n",
       "    <tr>\n",
       "      <th>yr</th>\n",
       "      <td>1963.214158</td>\n",
       "    </tr>\n",
       "    <tr>\n",
       "      <th>winter</th>\n",
       "      <td>1280.737407</td>\n",
       "    </tr>\n",
       "    <tr>\n",
       "      <th>summer</th>\n",
       "      <td>1172.381346</td>\n",
       "    </tr>\n",
       "    <tr>\n",
       "      <th>fall</th>\n",
       "      <td>875.171182</td>\n",
       "    </tr>\n",
       "    <tr>\n",
       "      <th>october</th>\n",
       "      <td>597.986062</td>\n",
       "    </tr>\n",
       "    <tr>\n",
       "      <th>september</th>\n",
       "      <td>597.626782</td>\n",
       "    </tr>\n",
       "    <tr>\n",
       "      <th>Saturday</th>\n",
       "      <td>70.766034</td>\n",
       "    </tr>\n",
       "    <tr>\n",
       "      <th>workingday</th>\n",
       "      <td>35.500675</td>\n",
       "    </tr>\n",
       "    <tr>\n",
       "      <th>cloudy</th>\n",
       "      <td>-390.202368</td>\n",
       "    </tr>\n",
       "    <tr>\n",
       "      <th>july</th>\n",
       "      <td>-614.119638</td>\n",
       "    </tr>\n",
       "    <tr>\n",
       "      <th>windspeed</th>\n",
       "      <td>-1008.319215</td>\n",
       "    </tr>\n",
       "    <tr>\n",
       "      <th>hum</th>\n",
       "      <td>-1253.070299</td>\n",
       "    </tr>\n",
       "    <tr>\n",
       "      <th>light snow/rain</th>\n",
       "      <td>-1602.995038</td>\n",
       "    </tr>\n",
       "  </tbody>\n",
       "</table>\n",
       "</div>"
      ],
      "text/plain": [
       "                 MLR Coefficients\n",
       "temp                  4234.263716\n",
       "yr                    1963.214158\n",
       "winter                1280.737407\n",
       "summer                1172.381346\n",
       "fall                   875.171182\n",
       "october                597.986062\n",
       "september              597.626782\n",
       "Saturday                70.766034\n",
       "workingday              35.500675\n",
       "cloudy                -390.202368\n",
       "july                  -614.119638\n",
       "windspeed            -1008.319215\n",
       "hum                  -1253.070299\n",
       "light snow/rain      -1602.995038"
      ]
     },
     "execution_count": 200,
     "metadata": {},
     "output_type": "execute_result"
    }
   ],
   "source": [
    "# standardizing numerical variables \n",
    "\n",
    "from sklearn.preprocessing import StandardScaler\n",
    "reg_features = selected_features\n",
    "scaler = StandardScaler()\n",
    "data = X_train[selected_features]\n",
    "std_num = scaler.fit(data[['temp','windspeed','hum']])\n",
    "\n",
    "\n",
    "std_X_train = pd.DataFrame(data = scaler.transform(data[['temp','windspeed','hum']]), columns=['temp','windspeed','hum'])\n",
    "for i in reg_features : \n",
    "    std_X_train[i] = data[i].values\n",
    "\n",
    "\n",
    "reshaped_y_train = y_train.values.reshape(-1,1)\n",
    "\n",
    "# Fitting linear regression model \n",
    "std_model = lr.fit(std_X_train, reshaped_y_train)\n",
    "\n",
    "# Coefficients and intercept\n",
    "result = pd.DataFrame(data = std_model.coef_, columns = std_X_train.columns, index=['MLR Coefficients']).T\n",
    "result = result.sort_values(by='MLR Coefficients',ascending=False)\n",
    "print('\\nIntercept :',std_model.intercept_)\n",
    "result"
   ]
  },
  {
   "cell_type": "markdown",
   "id": "97d5bb0d",
   "metadata": {},
   "source": [
    "-Upon standardized the values of predictor variables, the above shows that the top features influencing demand are temp, followed by yr and hum\n",
    "\n",
    "-In case of continuous variables, the above data could be interpreted as - With every standard deviation increase in continuous variables, demand increases by xxx, when all other modelled paramters are held unchanged.\n",
    "\n",
    "-In case of categorical variables, the above data could be interpreted as - Compared to the reference level, the change in demand is xxx,, when all other modelled paramters are held unchanged."
   ]
  },
  {
   "cell_type": "markdown",
   "id": "0864fff2",
   "metadata": {},
   "source": [
    "### CONCLUSION"
   ]
  },
  {
   "cell_type": "markdown",
   "id": "489a3041",
   "metadata": {},
   "source": [
    "Analysis is carried out using a Mixed Feature Selection Approach. 15 features are selected algorithmically using Recursive Feature Elimination. Further selection is done manually by looking at multicollinearity and statistical significance of features and overall fit of the model. The 10 most significant features to understand demand have been reported.\n",
    "\n",
    "The data set is randomly divided into training and test data. Final Model built on training data set explains 84% of the variability and achieves 81% on test data.\n",
    "The final relationship between demand and predictors is as follows.\n",
    "\n",
    "-cnt = 2392.0791 + 1946.7864 yr + 444.4907 Saturday + 466.0136 winter - 890.3115 july -1063.6669 spring + 296.8008 workingday - 1749.8275 hum + 4471.6602 temp - 1110.3191 windspeed - 1273.7519 light snow/rain\n",
    "\n",
    "where temp , windspeed and hum are normalized."
   ]
  },
  {
   "cell_type": "markdown",
   "id": "f2ae19a2",
   "metadata": {},
   "source": [
    "Note :\n",
    "\n",
    "-Data has been cleaned to drop outliers that might affect the model adversely\n",
    "\n",
    "-The model has been verified for Multicollinearity effects.\n",
    "Residual Analysis has been carried out and the model satisfies the assumptions of Linear Regression (Residuals follow a normal distribution, Errors exhibit homoscedasticity)\n",
    "\n",
    "-Q-Q plot between residual distribution and normal distribution shows that residuals follow a normal distribution for all interpolations. Extraplorations show significant deviation, not affecting Linear Regression applicability.\n",
    "\n",
    "-Further Lag plot shows there is no auto-correlation in data.\n",
    "Model is stable at 81%(+/-14%) coefficient of determination at 95% CI, ascertained through cross validation.\n",
    "\n",
    "-Features in the order of influence has been reported by standardizing all predictor values."
   ]
  },
  {
   "cell_type": "code",
   "execution_count": null,
   "id": "bfeed3ee",
   "metadata": {},
   "outputs": [],
   "source": []
  }
 ],
 "metadata": {
  "kernelspec": {
   "display_name": "Python 3 (ipykernel)",
   "language": "python",
   "name": "python3"
  },
  "language_info": {
   "codemirror_mode": {
    "name": "ipython",
    "version": 3
   },
   "file_extension": ".py",
   "mimetype": "text/x-python",
   "name": "python",
   "nbconvert_exporter": "python",
   "pygments_lexer": "ipython3",
   "version": "3.9.12"
  }
 },
 "nbformat": 4,
 "nbformat_minor": 5
}
